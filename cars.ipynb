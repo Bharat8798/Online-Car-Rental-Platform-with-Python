{
 "cells": [
  {
   "cell_type": "code",
   "execution_count": 31,
   "id": "823ab0df-865b-4c80-a405-07ef28398b9c",
   "metadata": {},
   "outputs": [],
   "source": [
    "import datetime as dt"
   ]
  },
  {
   "cell_type": "code",
   "execution_count": 32,
   "id": "7409983a-3eb0-4ff3-958d-341608e18aff",
   "metadata": {
    "tags": []
   },
   "outputs": [],
   "source": [
    "class CarRental:\n",
    "    def __init__(self):\n",
    "        self.available_cars =[\"SUV\",\"Sedan\",\"Hatchback\"]\n",
    "        \n",
    "    def display_car_availability(self):\n",
    "        print(\"Available cars for rent:\")\n",
    "        for car in self.available_cars:\n",
    "            print(car)\n",
    "\n",
    "    def rent_hourly(self, hours, requested_cars):\n",
    "        if requested_cars > 0 and requested_cars <= self.available_cars:\n",
    "            print(f\"You have rented {requested_cars} car(s) for {hours} hours.\")\n",
    "        else:\n",
    "            print(\"Invalid number of requested cars. Please try again.\")\n",
    "\n",
    "    def rent_daily(self, days, requested_cars):\n",
    "        if requested_cars > 0 and requested_cars <= self.available_cars:\n",
    "            print(f\"You have rented {requested_cars} car(s) for {days} days.\")\n",
    "        else:\n",
    "            print(\"Invalid number of requested cars. Please try again.\")\n",
    "\n",
    "    def rent_weekly(self, weeks, requested_cars):\n",
    "        if requested_cars > 0 and requested_cars <= self.available_cars:\n",
    "            print(f\"You have rented {requested_cars} car(s) for {weeks} weeks.\")\n",
    "        else:\n",
    "            print(\"Invalid number of requested cars. Please try again.\")\n",
    "            \n",
    "    def calculate_bill(rental_time, rental_mode, num_cars):\n",
    "        if rental_mode == \"hourly\":\n",
    "            rate = 10  \n",
    "            total_cost = rental_time * rate * num_cars\n",
    "        elif rental_mode == \"daily\":\n",
    "            rate = 50  \n",
    "            total_cost = rental_time * rate * num_cars\n",
    "        elif rental_mode == \"weekly\":\n",
    "            rate = 200  \n",
    "            total_cost = rental_time * rate * num_cars\n",
    "        else:\n",
    "                return \"Invalid rental mode!\"\n",
    "        return total_cost\n",
    "    \n",
    "    def return_car(inventory, rental_start_time, rental_end_time, rental_rate):\n",
    "        # Update inventory stock\n",
    "        inventory -= 1\n",
    "\n",
    "        # Calculate rental period\n",
    "        rental_period = rental_end_time - rental_start_time\n",
    "\n",
    "        # Generate the final bill\n",
    "        final_bill = rental_period * rental_rate\n",
    "\n",
    "        return inventory, rental_period, final_bill        "
   ]
  },
  {
   "cell_type": "code",
   "execution_count": 33,
   "id": "e4238ab2-67c9-4a56-a0a0-3de132e4827c",
   "metadata": {},
   "outputs": [],
   "source": [
    "class Customer:\n",
    "    def __init__(self, name):\n",
    "        self.name = name\n",
    "        self.rented_cars = []\n",
    "\n",
    "    def request_car(self, car):\n",
    "        self.rented_cars.append(car)\n",
    "        print(f\"{self.name} has requested the {car}.\")\n",
    "\n",
    "    def return_car(self, car):\n",
    "        if car in self.rented_cars:\n",
    "            self.rented_cars.remove(car)\n",
    "            print(f\"{self.name} has returned the {car}.\")\n",
    "        else:\n",
    "            print(f\"{self.name} did not rent the {car}.\")\n"
   ]
  },
  {
   "cell_type": "code",
   "execution_count": null,
   "id": "1d703537-1cb7-4ed8-8b6a-bd68704e0890",
   "metadata": {},
   "outputs": [],
   "source": []
  }
 ],
 "metadata": {
  "kernelspec": {
   "display_name": "Python 3 (ipykernel)",
   "language": "python",
   "name": "python3"
  },
  "language_info": {
   "codemirror_mode": {
    "name": "ipython",
    "version": 3
   },
   "file_extension": ".py",
   "mimetype": "text/x-python",
   "name": "python",
   "nbconvert_exporter": "python",
   "pygments_lexer": "ipython3",
   "version": "3.11.5"
  }
 },
 "nbformat": 4,
 "nbformat_minor": 5
}
