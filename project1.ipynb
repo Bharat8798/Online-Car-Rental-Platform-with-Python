{
 "cells": [
  {
   "cell_type": "code",
   "execution_count": 2,
   "id": "41842562-6f06-4156-b556-08f296812bc5",
   "metadata": {
    "tags": []
   },
   "outputs": [],
   "source": [
    "import cars"
   ]
  },
  {
   "cell_type": "code",
   "execution_count": 5,
   "id": "d3c89c0b-df44-45b6-9147-9a39eb796992",
   "metadata": {
    "tags": []
   },
   "outputs": [],
   "source": [
    "car_rental=cars.CarRental()"
   ]
  },
  {
   "cell_type": "code",
   "execution_count": 6,
   "id": "e919dada-a3a5-4a76-b325-975b735d9d4e",
   "metadata": {
    "tags": []
   },
   "outputs": [],
   "source": [
    "customer = cars.Customer(\"Bharat\")"
   ]
  },
  {
   "cell_type": "code",
   "execution_count": 7,
   "id": "bbc784f2-03f7-43e3-9cfd-a6c7bb1a6bdc",
   "metadata": {
    "tags": []
   },
   "outputs": [],
   "source": [
    "def main():\n",
    "    while True:\n",
    "        print(\"What would you like to do?\")\n",
    "        print(\"1. Display car availability\")\n",
    "        print(\"2. Rent a car\")\n",
    "        print(\"3. Return a car\")\n",
    "        print(\"4. Exit\")\n",
    "\n",
    "        choice = input(\"Enter your choice (1-4): \")\n",
    "\n",
    "        if choice == \"1\":\n",
    "            car_rental.display_car_availability()\n",
    "        elif choice == \"2\":\n",
    "            car_choice = input(f\"{customer.name}, enter the car you want to rent: \")\n",
    "            customer.request_car(car_choice)\n",
    "        elif choice == \"3\":\n",
    "            car_choice = input(f\"{customer.name}, enter the car you want to return: \")\n",
    "            customer.return_car(car_choice)\n",
    "        elif choice == \"4\":\n",
    "            print(f\"Thank you, {customer.name}, for using our car rental service!\")\n",
    "            break\n",
    "        else:\n",
    "            print(\"Invalid choice. Please try again.\")"
   ]
  },
  {
   "cell_type": "code",
   "execution_count": 8,
   "id": "e05fd26f-8b73-48d8-8bb5-26d81ecd4732",
   "metadata": {
    "tags": []
   },
   "outputs": [
    {
     "name": "stdout",
     "output_type": "stream",
     "text": [
      "What would you like to do?\n",
      "1. Display car availability\n",
      "2. Rent a car\n",
      "3. Return a car\n",
      "4. Exit\n"
     ]
    },
    {
     "name": "stdin",
     "output_type": "stream",
     "text": [
      "Enter your choice (1-4):  1\n"
     ]
    },
    {
     "name": "stdout",
     "output_type": "stream",
     "text": [
      "Available cars for rent:\n",
      "SUV\n",
      "Sedan\n",
      "Hatchback\n",
      "What would you like to do?\n",
      "1. Display car availability\n",
      "2. Rent a car\n",
      "3. Return a car\n",
      "4. Exit\n"
     ]
    },
    {
     "name": "stdin",
     "output_type": "stream",
     "text": [
      "Enter your choice (1-4):  4\n"
     ]
    },
    {
     "name": "stdout",
     "output_type": "stream",
     "text": [
      "Thank you, Bharat, for using our car rental service!\n"
     ]
    }
   ],
   "source": [
    "main()"
   ]
  },
  {
   "cell_type": "code",
   "execution_count": null,
   "id": "dec1f928-a576-487b-b24d-a8c3e5966cab",
   "metadata": {},
   "outputs": [],
   "source": []
  }
 ],
 "metadata": {
  "kernelspec": {
   "display_name": "Python 3 (ipykernel)",
   "language": "python",
   "name": "python3"
  },
  "language_info": {
   "codemirror_mode": {
    "name": "ipython",
    "version": 3
   },
   "file_extension": ".py",
   "mimetype": "text/x-python",
   "name": "python",
   "nbconvert_exporter": "python",
   "pygments_lexer": "ipython3",
   "version": "3.11.5"
  }
 },
 "nbformat": 4,
 "nbformat_minor": 5
}
